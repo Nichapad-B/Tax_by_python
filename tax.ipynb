{
 "cells": [
  {
   "cell_type": "code",
   "execution_count": 88,
   "metadata": {},
   "outputs": [
    {
     "name": "stdout",
     "output_type": "stream",
     "text": [
      "1\n"
     ]
    }
   ],
   "source": [
    "choices = input('Enter\\n[1] Income per Month [2] Income per Year: ')\n",
    "print(choices)"
   ]
  },
  {
   "cell_type": "code",
   "execution_count": 89,
   "metadata": {},
   "outputs": [
    {
     "name": "stdout",
     "output_type": "stream",
     "text": [
      "60000.0\n",
      "60000.0\n"
     ]
    }
   ],
   "source": [
    "income_year1 = float(input('Enter Income per Month: '))*12\n",
    "income_year2 = float(input('Enter Income per Year: '))\n",
    "\n",
    "print(income_year1)\n",
    "print(income_year2)"
   ]
  },
  {
   "cell_type": "code",
   "execution_count": 90,
   "metadata": {},
   "outputs": [
    {
     "name": "stdout",
     "output_type": "stream",
     "text": [
      "Enter\n",
      "[1] Income per Month [2] Income per Year\n"
     ]
    },
    {
     "data": {
      "text/plain": [
       "60000.0"
      ]
     },
     "execution_count": 90,
     "metadata": {},
     "output_type": "execute_result"
    }
   ],
   "source": [
    "def test():\n",
    "    print('Enter\\n[1] Income per Month [2] Income per Year')\n",
    "    choice = ''\n",
    "    while choice not in ['1', '2']:\n",
    "        choice = input('Enter\\n[1] Income per Month [2] Income per Year: ')\n",
    "\n",
    "        if choice == '1':\n",
    "            income_per_year = float(input('Enter Income per Month: '))*12\n",
    "\n",
    "        elif choice == '2':\n",
    "            income_per_year = float(input('Enter Income per Year: '))\n",
    "    \n",
    "    return income_per_year\n",
    "test()"
   ]
  },
  {
   "cell_type": "code",
   "execution_count": 91,
   "metadata": {},
   "outputs": [],
   "source": [
    "# ค่าเงินได้\n",
    "\n",
    "def income():\n",
    "    print('Enter\\n[1] Income per Month [2] Income per Year')\n",
    "    choice = ''\n",
    "    while choice not in ['1', '2']:\n",
    "        choice = input('Choose\\n[1] Income per Month [2] Income per Year: ')\n",
    "\n",
    "        if choice == '1':\n",
    "            income_per_year = float(input('Enter Income per Month: '))*12\n",
    "\n",
    "        elif choice == '2':\n",
    "            income_per_year = float(input('Enter Income per Year: '))\n",
    "\n",
    "        else:\n",
    "            choice = print('Sorry, Try again.')\n",
    "    \n",
    "    return income_per_year"
   ]
  },
  {
   "cell_type": "code",
   "execution_count": 95,
   "metadata": {},
   "outputs": [
    {
     "name": "stdout",
     "output_type": "stream",
     "text": [
      "Enter\n",
      "[1] Income per Month [2] Income per Year\n",
      "Sorry, Try again.\n",
      "60000.0\n"
     ]
    }
   ],
   "source": [
    "test1 = income()\n",
    "print(test1)"
   ]
  },
  {
   "cell_type": "code",
   "execution_count": 96,
   "metadata": {},
   "outputs": [
    {
     "name": "stdout",
     "output_type": "stream",
     "text": [
      "Enter\n",
      "[1] Income per Month [2] Income per Year\n",
      "6000.0\n"
     ]
    }
   ],
   "source": [
    "test2 = income()\n",
    "print(test2)"
   ]
  },
  {
   "cell_type": "code",
   "execution_count": 97,
   "metadata": {},
   "outputs": [],
   "source": [
    "# คำนวณค่าใช้จ่าย\n",
    "\n",
    "def exp(income_per_year):       \n",
    "    expense = 0.5 * income_per_year\n",
    "    if expense > 100000:\n",
    "        expense = 100000\n",
    "    else:\n",
    "        expense   \n",
    "    \n",
    "    return expense"
   ]
  },
  {
   "cell_type": "code",
   "execution_count": 98,
   "metadata": {},
   "outputs": [
    {
     "data": {
      "text/plain": [
       "30000.0"
      ]
     },
     "execution_count": 98,
     "metadata": {},
     "output_type": "execute_result"
    }
   ],
   "source": [
    "exp(60000)"
   ]
  },
  {
   "cell_type": "code",
   "execution_count": 99,
   "metadata": {},
   "outputs": [
    {
     "data": {
      "text/plain": [
       "100000"
      ]
     },
     "execution_count": 99,
     "metadata": {},
     "output_type": "execute_result"
    }
   ],
   "source": [
    "exp(500000)"
   ]
  },
  {
   "cell_type": "code",
   "execution_count": 104,
   "metadata": {},
   "outputs": [],
   "source": [
    "# คำนวณค่าลดหย่อน\n",
    "\n",
    "def allw():\n",
    "    print('Add allowance?\\n[y]es [n]o')\n",
    "    choice = ''\n",
    "    allowance = 0\n",
    "    while choice != 'n':\n",
    "        choice = input('Add allowance?\\n[y]es [n]o: ')\n",
    "            \n",
    "        if choice == 'y':\n",
    "            a = float(input('Enter amount: '))\n",
    "            allowance += a\n",
    "            \n",
    "        elif choice == 'n':\n",
    "            allowance\n",
    "            \n",
    "        else:\n",
    "            print('Sorry, Try again.')\n",
    "            \n",
    "    return allowance"
   ]
  },
  {
   "cell_type": "code",
   "execution_count": 105,
   "metadata": {},
   "outputs": [
    {
     "name": "stdout",
     "output_type": "stream",
     "text": [
      "Add allowance?\n",
      "[y]es [n]o\n",
      "Sorry, Try again.\n",
      "Sorry, Try again.\n"
     ]
    },
    {
     "data": {
      "text/plain": [
       "110.0"
      ]
     },
     "execution_count": 105,
     "metadata": {},
     "output_type": "execute_result"
    }
   ],
   "source": [
    "allw()"
   ]
  },
  {
   "cell_type": "code",
   "execution_count": 106,
   "metadata": {},
   "outputs": [],
   "source": [
    "# คำนวณค่าเงินได้สุทธิ\n",
    "\n",
    "def cal_income(income_per_year, expense, allowance):\n",
    "    net_income = income_per_year-expense-allowance\n",
    "    return net_income"
   ]
  },
  {
   "cell_type": "code",
   "execution_count": 107,
   "metadata": {},
   "outputs": [
    {
     "data": {
      "text/plain": [
       "400"
      ]
     },
     "execution_count": 107,
     "metadata": {},
     "output_type": "execute_result"
    }
   ],
   "source": [
    "cal_income(600, 100, 100)\n",
    "# 400"
   ]
  },
  {
   "cell_type": "code",
   "execution_count": 108,
   "metadata": {},
   "outputs": [],
   "source": [
    "# คำนวณภาษีโดยใช้อัตราภาษีแบบขั้นบันได\n",
    "\n",
    "def cal_tax(net_income):\n",
    "    if net_income > 5000000 :\n",
    "        tax = ((net_income-5000000)*0.35)+1265000\n",
    "        \n",
    "    elif 5000000 >= net_income > 2000000:\n",
    "        tax = ((net_income-2000000)*0.30)+365000\n",
    "        \n",
    "    elif 2000000 >= net_income > 1000000:\n",
    "        tax = ((net_income-1000000)*0.25)+115000\n",
    "        \n",
    "    elif 1000000 >= net_income > 750000:\n",
    "        tax = ((net_income-750000)*0.20)+65000\n",
    "        \n",
    "    elif 750000 >= net_income > 500000:\n",
    "        tax = ((net_income-500000)*0.15)+27500\n",
    " \n",
    "    elif 500000 >= net_income > 300000: \n",
    "        # 300000 < net_income <= 500000\n",
    "        tax = ((net_income-300000)*0.10)+7500   \n",
    "\n",
    "    elif  300000 >= net_income > 150000:\n",
    "        tax = (net_income-150000)*0.05\n",
    "        \n",
    "    elif  net_income < 150000:\n",
    "        tax = 0\n",
    "\n",
    "    print(f'Net Income = {net_income}, Tax = {tax}')"
   ]
  },
  {
   "cell_type": "code",
   "execution_count": 109,
   "metadata": {},
   "outputs": [
    {
     "name": "stdout",
     "output_type": "stream",
     "text": [
      "Net Income = 2000, Tax = 0\n"
     ]
    }
   ],
   "source": [
    "cal_tax(2000)"
   ]
  },
  {
   "cell_type": "code",
   "execution_count": 110,
   "metadata": {},
   "outputs": [
    {
     "name": "stdout",
     "output_type": "stream",
     "text": [
      "Enter\n",
      "[1] Income per Month [2] Income per Year\n",
      "Sorry, Try again.\n",
      "Add allowance?\n",
      "[y]es [n]o\n",
      "Sorry, Try again.\n"
     ]
    }
   ],
   "source": [
    "# income_per_month = 45000\n",
    "# allowance = 59000 + 600000 = 119000\n",
    "# net_income = 321000\n",
    "\n",
    "a = income()\n",
    "b = exp(a)\n",
    "c = allw()\n",
    "d = cal_income(a, b, c)"
   ]
  },
  {
   "cell_type": "code",
   "execution_count": 111,
   "metadata": {},
   "outputs": [
    {
     "name": "stdout",
     "output_type": "stream",
     "text": [
      "321000.0\n"
     ]
    }
   ],
   "source": [
    "print(d)"
   ]
  },
  {
   "cell_type": "code",
   "execution_count": 112,
   "metadata": {},
   "outputs": [
    {
     "name": "stdout",
     "output_type": "stream",
     "text": [
      "Net Income = 321000.0, Tax = 9600.0\n"
     ]
    }
   ],
   "source": [
    "cal_tax(d)"
   ]
  }
 ],
 "metadata": {
  "interpreter": {
   "hash": "1e915f0a29dc84041eaeb02b7b1a21c440e37a87b61d44d5e84a515737dc82bc"
  },
  "kernelspec": {
   "display_name": "Python 3.8.12 ('base')",
   "language": "python",
   "name": "python3"
  },
  "language_info": {
   "codemirror_mode": {
    "name": "ipython",
    "version": 3
   },
   "file_extension": ".py",
   "mimetype": "text/x-python",
   "name": "python",
   "nbconvert_exporter": "python",
   "pygments_lexer": "ipython3",
   "version": "3.8.12"
  },
  "orig_nbformat": 4
 },
 "nbformat": 4,
 "nbformat_minor": 2
}
